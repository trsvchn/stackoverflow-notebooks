{
 "cells": [
  {
   "cell_type": "markdown",
   "metadata": {},
   "source": [
    "# Notebook for [Pytorch Dataloader for Image GT dataset](https://stackoverflow.com/questions/59467781/pytorch-dataloader-for-image-gt-dataset)"
   ]
  },
  {
   "cell_type": "markdown",
   "metadata": {
    "badge": true,
    "repo_name": "trsvchn/stackoverflow-notebooks",
    "branch": "master",
    "nb_path": "custom-vision-dataset.ipynb",
    "comment": "This badge cell was added by colab-badge-action"
   },
   "source": [
    "<a href=\"https://colab.research.google.com/github/trsvchn/stackoverflow-notebooks/blob/master/custom-vision-dataset.ipynb\" target=\"_parent\"><img src=\"https://colab.research.google.com/assets/colab-badge.svg\" alt=\"Open In Colab\"/></a>"
   ]
  },
  {
   "cell_type": "code",
   "execution_count": 1,
   "metadata": {},
   "outputs": [],
   "source": [
    "%matplotlib inline"
   ]
  },
  {
   "cell_type": "markdown",
   "metadata": {},
   "source": [
    "We need some data with particular structure consisting of 2 folders: RGB and GT."
   ]
  },
  {
   "cell_type": "code",
   "execution_count": 2,
   "metadata": {},
   "outputs": [],
   "source": [
    "import os\n",
    "import numpy as np\n",
    "from PIL import Image\n",
    "from PIL import ImageDraw \n",
    "\n",
    "\n",
    "root = './data'\n",
    "rgb = os.path.join(root, 'RGB')\n",
    "gt = os.path.join(root, 'GT')\n",
    "dirs = [root, rgb, gt]\n",
    "\n",
    "for dir_ in dirs:\n",
    "    if not os.path.exists(dir_):\n",
    "        os.makedirs(dir_)\n",
    "\n",
    "# Generate some images\n",
    "n = 8\n",
    "for i in range(n):\n",
    "    arr = np.zeros((32, 32, 3))\n",
    "\n",
    "    arr[:,:,:] = np.random.randint(0, 255, 3)\n",
    "    im1 = Image.fromarray(np.uint8(arr))\n",
    "    # Add some text\n",
    "    ImageDraw.Draw(im1).text((0, 0), 'RGB',(255, 255, 255))\n",
    "    im1.save(os.path.join(rgb, f'img{i+1}.png'))\n",
    "\n",
    "    im2 = Image.fromarray(np.uint8(arr))\n",
    "    ImageDraw.Draw(im2).text((0, 0), 'GT',(255, 255, 255))\n",
    "    im2.save(os.path.join(gt, f'img{i+1}.png'))"
   ]
  },
  {
   "cell_type": "markdown",
   "metadata": {},
   "source": [
    "I think, the good starting point is to use `VisionDataset` class as a base. Here is what we are going to use: [DatasetFolder source code](https://github.com/pytorch/vision/blob/d2c763e14efe57e4bf3ebf916ec243ce8ce3315c/torchvision/datasets/folder.py#L57). So, we going to create smth similar. You can notice this class depends on two other functions from  `datasets.folder` module: [default_loader](https://github.com/pytorch/vision/blob/d2c763e14efe57e4bf3ebf916ec243ce8ce3315c/torchvision/datasets/folder.py#L169) and [make_dataset](https://github.com/pytorch/vision/blob/d2c763e14efe57e4bf3ebf916ec243ce8ce3315c/torchvision/datasets/folder.py#L35).\n",
    "\n",
    "We are not going to modify `default_loader`, because it's already fine, it just helps us to load images, so we will import it.\n",
    "\n",
    "But we need a new `make_dataset` function, that prepared the right pairs of images from root folder. Since original `make_dataset` pairs images (image paths if to be more precisely) and their root folder as target class (class index) and we have a list of `(path, class_to_idx[target])` pairs, but we need `(rgb_path, gt_path)`. Here is the code for new `make_dataset`:"
   ]
  },
  {
   "cell_type": "code",
   "execution_count": 3,
   "metadata": {},
   "outputs": [],
   "source": [
    "def make_dataset(root: str) -> list:\n",
    "    \"\"\"Reads a directory with data.\n",
    "    Returns a dataset as a list of tuples of paired image paths: (rgb_path, gt_path)\n",
    "    \"\"\"\n",
    "    dataset = []\n",
    "\n",
    "    # Our dir names\n",
    "    rgb_dir = 'RGB'\n",
    "    gt_dir = 'GT'   \n",
    "    \n",
    "    # Get all the filenames from RGB folder\n",
    "    rgb_fnames = sorted(os.listdir(os.path.join(root, rgb_dir)))\n",
    "    \n",
    "    # Compare file names from GT folder to file names from RGB:\n",
    "    for gt_fname in sorted(os.listdir(os.path.join(root, gt_dir))):\n",
    "\n",
    "            if gt_fname in rgb_fnames:\n",
    "                # if we have a match - create pair of full path to the corresponding images\n",
    "                rgb_path = os.path.join(root, rgb_dir, gt_fname)\n",
    "                gt_path = os.path.join(root, gt_dir, gt_fname)\n",
    "\n",
    "                item = (rgb_path, gt_path)\n",
    "                # append to the list dataset\n",
    "                dataset.append(item)\n",
    "            else:\n",
    "                continue\n",
    "\n",
    "    return dataset"
   ]
  },
  {
   "cell_type": "markdown",
   "metadata": {},
   "source": [
    "What do we have now? Let's compare our function with original one:"
   ]
  },
  {
   "cell_type": "code",
   "execution_count": 4,
   "metadata": {},
   "outputs": [
    {
     "name": "stdout",
     "output_type": "stream",
     "text": [
      "Original make_dataset:\n",
      "('./data/GT/img1.png', 1)\n",
      "('./data/GT/img2.png', 1)\n",
      "('./data/GT/img3.png', 1)\n",
      "('./data/GT/img4.png', 1)\n",
      "('./data/GT/img5.png', 1)\n",
      "('./data/GT/img6.png', 1)\n",
      "('./data/GT/img7.png', 1)\n",
      "('./data/GT/img8.png', 1)\n",
      "('./data/RGB/img1.png', 0)\n",
      "('./data/RGB/img2.png', 0)\n",
      "('./data/RGB/img3.png', 0)\n",
      "('./data/RGB/img4.png', 0)\n",
      "('./data/RGB/img5.png', 0)\n",
      "('./data/RGB/img6.png', 0)\n",
      "('./data/RGB/img7.png', 0)\n",
      "('./data/RGB/img8.png', 0)\n",
      "Our make_dataset:\n",
      "('./data/RGB/img1.png', './data/GT/img1.png')\n",
      "('./data/RGB/img2.png', './data/GT/img2.png')\n",
      "('./data/RGB/img3.png', './data/GT/img3.png')\n",
      "('./data/RGB/img4.png', './data/GT/img4.png')\n",
      "('./data/RGB/img5.png', './data/GT/img5.png')\n",
      "('./data/RGB/img6.png', './data/GT/img6.png')\n",
      "('./data/RGB/img7.png', './data/GT/img7.png')\n",
      "('./data/RGB/img8.png', './data/GT/img8.png')\n"
     ]
    }
   ],
   "source": [
    "from torchvision.datasets.folder import make_dataset as make_dataset_original\n",
    "\n",
    "\n",
    "dataset_original = make_dataset_original(root, {'RGB': 0, 'GT': 1}, extensions='png')\n",
    "dataset = make_dataset(root)\n",
    "\n",
    "print('Original make_dataset:')\n",
    "print(*dataset_original, sep='\\n')\n",
    "\n",
    "print('Our make_dataset:')\n",
    "print(*dataset, sep='\\n')"
   ]
  },
  {
   "cell_type": "markdown",
   "metadata": {},
   "source": [
    "Now we can define our class Dataset. The most important part here is `__getitem__` methods, because it imports images, applies transformation and returns a tensors, that can be used by dataloaders. We need to read a pair of images (rgb and gt) and return a tuple of 2 tensor images:"
   ]
  },
  {
   "cell_type": "code",
   "execution_count": 5,
   "metadata": {},
   "outputs": [],
   "source": [
    "from torchvision.datasets.folder import default_loader\n",
    "from torchvision.datasets.vision import VisionDataset\n",
    "\n",
    "\n",
    "class CustomVisionDataset(VisionDataset):\n",
    "    \n",
    "    def __init__(self,\n",
    "                 root,\n",
    "                 loader=default_loader,\n",
    "                 rgb_transform=None,\n",
    "                 gt_transform=None):\n",
    "        super().__init__(root,\n",
    "                         transform=rgb_transform,\n",
    "                         target_transform=gt_transform)\n",
    "\n",
    "        # Prepare dataset\n",
    "        samples = make_dataset(self.root)\n",
    "\n",
    "        self.loader = loader\n",
    "        self.samples = samples\n",
    "        # list of RGB images\n",
    "        self.rgb_samples = [s[1] for s in samples]\n",
    "        # list of GT images\n",
    "        self.gt_samples = [s[1] for s in samples]\n",
    "\n",
    "    def __getitem__(self, index):\n",
    "        \"\"\"Returns a data sample from our dataset.\n",
    "        \"\"\"\n",
    "        # getting our paths to images\n",
    "        rgb_path, gt_path = self.samples[index]\n",
    "        \n",
    "        # import each image using loader (by default it's PIL)\n",
    "        rgb_sample = self.loader(rgb_path)\n",
    "        gt_sample = self.loader(gt_path)\n",
    "        \n",
    "        # here goes tranforms if needed\n",
    "        # maybe we need different tranforms for each type of image\n",
    "        if self.transform is not None:\n",
    "            rgb_sample = self.transform(rgb_sample)\n",
    "        if self.target_transform is not None:\n",
    "            gt_sample = self.target_transform(gt_sample)      \n",
    "        \n",
    "        # now we return the right imported pair of images (tensors)\n",
    "        return rgb_sample, gt_sample\n",
    "\n",
    "    def __len__(self):\n",
    "        return len(self.samples)"
   ]
  },
  {
   "cell_type": "markdown",
   "metadata": {},
   "source": [
    "Let's test it:"
   ]
  },
  {
   "cell_type": "code",
   "execution_count": 6,
   "metadata": {},
   "outputs": [
    {
     "name": "stdout",
     "output_type": "stream",
     "text": [
      "batch 1:\n"
     ]
    },
    {
     "data": {
      "image/png": "[encoded data removed]",
      "text/plain": [
       "<Figure size 720x360 with 2 Axes>"
      ]
     },
     "metadata": {
      "needs_background": "light"
     },
     "output_type": "display_data"
    },
    {
     "data": {
      "image/png": "[encoded data removed]",
      "text/plain": [
       "<Figure size 720x360 with 2 Axes>"
      ]
     },
     "metadata": {
      "needs_background": "light"
     },
     "output_type": "display_data"
    },
    {
     "data": {
      "image/png": "[encoded data removed]",
      "text/plain": [
       "<Figure size 720x360 with 2 Axes>"
      ]
     },
     "metadata": {
      "needs_background": "light"
     },
     "output_type": "display_data"
    },
    {
     "data": {
      "image/png": "[encoded data removed]",
      "text/plain": [
       "<Figure size 720x360 with 2 Axes>"
      ]
     },
     "metadata": {
      "needs_background": "light"
     },
     "output_type": "display_data"
    },
    {
     "name": "stdout",
     "output_type": "stream",
     "text": [
      "batch 2:\n"
     ]
    },
    {
     "data": {
      "image/png": "[encoded data removed]",
      "text/plain": [
       "<Figure size 720x360 with 2 Axes>"
      ]
     },
     "metadata": {
      "needs_background": "light"
     },
     "output_type": "display_data"
    },
    {
     "data": {
      "image/png": "[encoded data removed]",
      "text/plain": [
       "<Figure size 720x360 with 2 Axes>"
      ]
     },
     "metadata": {
      "needs_background": "light"
     },
     "output_type": "display_data"
    },
    {
     "data": {
      "image/png": "[encoded data removed]",
      "text/plain": [
       "<Figure size 720x360 with 2 Axes>"
      ]
     },
     "metadata": {
      "needs_background": "light"
     },
     "output_type": "display_data"
    },
    {
     "data": {
      "image/png": "[encoded data removed]",
      "text/plain": [
       "<Figure size 720x360 with 2 Axes>"
      ]
     },
     "metadata": {
      "needs_background": "light"
     },
     "output_type": "display_data"
    }
   ],
   "source": [
    "from torch.utils.data import DataLoader\n",
    "\n",
    "from torchvision.transforms import ToTensor\n",
    "import matplotlib.pyplot as plt\n",
    "\n",
    "\n",
    "bs=4  # batch size\n",
    "transforms = ToTensor()  # we need this to convert PIL images to Tensor\n",
    "shuffle = True\n",
    "\n",
    "dataset = CustomVisionDataset('./data', rgb_transform=transforms, gt_transform=transforms)\n",
    "dataloader = DataLoader(dataset, batch_size=bs, shuffle=shuffle)\n",
    "\n",
    "for i, (rgb, gt) in enumerate(dataloader):\n",
    "    print(f'batch {i+1}:')\n",
    "    # some plots\n",
    "    for i in range(bs):\n",
    "        plt.figure(figsize=(10, 5))\n",
    "        plt.subplot(221)\n",
    "        plt.imshow(rgb[i].squeeze().permute(1, 2, 0))\n",
    "        plt.title(f'RGB img{i+1}')\n",
    "        plt.subplot(222)\n",
    "        plt.imshow(gt[i].squeeze().permute(1, 2, 0))\n",
    "        plt.title(f'GT img{i+1}')\n",
    "        plt.show()"
   ]
  }
 ],
 "metadata": {
  "kernelspec": {
   "display_name": "Python 3",
   "language": "python",
   "name": "python3"
  },
  "language_info": {
   "codemirror_mode": {
    "name": "ipython",
    "version": 3
   },
   "file_extension": ".py",
   "mimetype": "text/x-python",
   "name": "python",
   "nbconvert_exporter": "python",
   "pygments_lexer": "ipython3",
   "version": "3.7.4"
  }
 },
 "nbformat": 4,
 "nbformat_minor": 2
}