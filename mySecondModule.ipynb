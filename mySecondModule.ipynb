{
  "cells": [
    {
      "cell_type": "markdown",
      "metadata": {
        "badge": true,
        "branch": "master",
        "comment": "This badge cell was added by colab-badge-action",
        "nb_path": "mySecondModule.ipynb",
        "repo_name": "trsvchn/stackoverflow-notebooks"
      },
      "source": [
        "<!--<badge>--><a href=\"https://colab.research.google.com/github/trsvchn/stackoverflow-notebooks/blob/master/mySecondModule.ipynb\" target=\"_parent\"><img src=\"https://colab.research.google.com/assets/colab-badge.svg\" alt=\"Open In Colab\"/></a><!--</badge>-->"
      ]
    },
    {
      "cell_type": "markdown",
      "metadata": {},
      "source": [
        "# mySecondModule"
      ]
    },
    {
      "cell_type": "code",
      "execution_count": 1,
      "metadata": {},
      "outputs": [
        {
          "name": "stdout",
          "output_type": "stream",
          "text": [
            "Hello from myFirstModule!\n"
          ]
        }
      ],
      "source": [
        "%run '~/Users/me/myModules/myFirstModule.ipynb'"
      ]
    },
    {
      "cell_type": "code",
      "execution_count": 2,
      "metadata": {},
      "outputs": [
        {
          "name": "stdout",
          "output_type": "stream",
          "text": [
            "Func hello from myFirstModule says Hi!\n"
          ]
        }
      ],
      "source": [
        "hello()"
      ]
    },
    {
      "cell_type": "code",
      "execution_count": 3,
      "metadata": {},
      "outputs": [
        {
          "name": "stdout",
          "output_type": "stream",
          "text": [
            "<class '__main__.FirstModuleClass'> from myFirstModule says Hi!\n"
          ]
        }
      ],
      "source": [
        "obj = FirstModuleClass()"
      ]
    },
    {
      "cell_type": "code",
      "execution_count": null,
      "metadata": {},
      "outputs": [],
      "source": []
    }
  ],
  "metadata": {
    "kernelspec": {
      "display_name": "Python 3",
      "language": "python",
      "name": "python3"
    },
    "language_info": {
      "codemirror_mode": {
        "name": "ipython",
        "version": 3
      },
      "file_extension": ".py",
      "mimetype": "text/x-python",
      "name": "python",
      "nbconvert_exporter": "python",
      "pygments_lexer": "ipython3",
      "version": "3.7.6"
    }
  },
  "nbformat": 4,
  "nbformat_minor": 2
}