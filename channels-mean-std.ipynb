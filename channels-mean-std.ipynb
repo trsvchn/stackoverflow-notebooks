{
 "cells": [
  {
   "cell_type": "markdown",
   "metadata": {
    "badge": true,
    "branch": "master",
    "comment": "This badge cell was added by colab-badge-action",
    "nb_path": "channels-mean-std.ipynb",
    "repo_name": "trsvchn/stackoverflow-notebooks"
   },
   "source": [
    "{{ badge }}"
   ]
  },
  {
   "cell_type": "code",
   "execution_count": 2,
   "metadata": {},
   "outputs": [],
   "source": [
    "import torch\n",
    "from scipy.misc import face"
   ]
  },
  {
   "cell_type": "code",
   "execution_count": 40,
   "metadata": {},
   "outputs": [],
   "source": [
    "img = face().astype('float')\n",
    "img = torch.tensor(img)\n",
    "batch = img.permute(2, 0, 1)\n",
    "batch = batch.unsqueeze(0)\n",
    "# batch.shape\n",
    "loader = [(batch, '')]"
   ]
  },
  {
   "cell_type": "code",
   "execution_count": 48,
   "metadata": {},
   "outputs": [
    {
     "name": "stdout",
     "output_type": "stream",
     "text": [
      "torch.Size([1, 3, 768, 1024])\n",
      "torch.Size([1, 3, 786432])\n",
      "1\n",
      "tensor([110.6760, 117.7298, 102.0824], dtype=torch.float64)\n",
      "tensor([55.1072, 56.4377, 59.8056], dtype=torch.float64)\n",
      "tensor([110.6760, 117.7298, 102.0824], dtype=torch.float64)\n",
      "tensor([55.1072, 56.4377, 59.8056], dtype=torch.float64)\n"
     ]
    }
   ],
   "source": [
    "nimages = 0\n",
    "mean = 0.\n",
    "std = 0.\n",
    "\n",
    "for batch, _ in loader:\n",
    "\n",
    "    print(batch.shape)\n",
    "    \n",
    "    batch = batch.view(data.size(0), batch.size(1), -1)\n",
    "\n",
    "    print(batch.shape)\n",
    "    \n",
    "    # update total number of images\n",
    "    nimages += batch.size(0)\n",
    "    # compute mean and std here\n",
    "    mean += batch.mean(2).sum(0)\n",
    "    std += batch.std(2).sum(0)\n",
    "    \n",
    "    print(nimages)\n",
    "    print(mean)\n",
    "    print(std)\n",
    "    \n",
    "mean /= nimages\n",
    "std /= nimages\n",
    "\n",
    "print(mean)\n",
    "print(std)"
   ]
  },
  {
   "cell_type": "code",
   "execution_count": 60,
   "metadata": {},
   "outputs": [
    {
     "name": "stdout",
     "output_type": "stream",
     "text": [
      "tensor([ 0.0091, -0.0010,  0.0024])\n",
      "tensor([1.0035, 0.9965, 0.9973])\n"
     ]
    }
   ],
   "source": [
    "import torch\n",
    "from torch.utils.data import TensorDataset, DataLoader\n",
    "\n",
    "data = torch.randn(64, 3, 28, 28)\n",
    "labels = torch.zeros(64, 1)\n",
    "dataset = TensorDataset(data, labels)\n",
    "loader = DataLoader(dataset, batch_size=8)\n",
    "\n",
    "nimages = 0\n",
    "mean = 0.\n",
    "std = 0.\n",
    "for batch, _ in loader:\n",
    "    # Rearrange batch to be the shape of [B, C, W * H]\n",
    "    batch = batch.view(batch.size(0), batch.size(1), -1)\n",
    "    # Update total number of images\n",
    "    nimages += batch.size(0)\n",
    "    # Compute mean and std here\n",
    "    mean += batch.mean(2).sum(0) \n",
    "    std += batch.std(2).sum(0)\n",
    "\n",
    "# Final step\n",
    "mean /= nimages\n",
    "std /= nimages\n",
    "\n",
    "print(mean)\n",
    "print(std)"
   ]
  }
 ],
 "metadata": {
  "kernelspec": {
   "display_name": "Python 3",
   "language": "python",
   "name": "python3"
  },
  "language_info": {
   "codemirror_mode": {
    "name": "ipython",
    "version": 3
   },
   "file_extension": ".py",
   "mimetype": "text/x-python",
   "name": "python",
   "nbconvert_exporter": "python",
   "pygments_lexer": "ipython3",
   "version": "3.7.6"
  }
 },
 "nbformat": 4,
 "nbformat_minor": 2
}
