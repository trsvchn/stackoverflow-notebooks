{
  "cells": [
    {
      "cell_type": "markdown",
      "metadata": {
        "badge": true,
        "branch": "master",
        "comment": "This badge cell was added by colab-badge-action",
        "nb_path": "colored-lines.ipynb",
        "repo_name": "trsvchn/stackoverflow-notebooks"
      },
      "source": [
        "<!--<badge>--><a href=\"https://colab.research.google.com/github/trsvchn/stackoverflow-notebooks/blob/master/colored-lines.ipynb\" target=\"_parent\"><img src=\"https://colab.research.google.com/assets/colab-badge.svg\" alt=\"Open In Colab\"/></a><!--</badge>-->"
      ]
    },
    {
      "cell_type": "code",
      "execution_count": 72,
      "metadata": {},
      "outputs": [
        {
          "data": {
            "image/png": "[encoded data removed]",
            "text/plain": [
              "<Figure size 432x288 with 1 Axes>"
            ]
          },
          "metadata": {
            "needs_background": "light"
          },
          "output_type": "display_data"
        }
      ],
      "source": [
        "import numpy as np\n",
        "import matplotlib.pyplot as plt\n",
        "import matplotlib.colors as colors\n",
        "\n",
        "\n",
        "income = np.array([5000, 5005, 5010, 6000, 6060, 6120, 7000])\n",
        "x = np.arange(len(y))\n",
        "job = np.array([0, 0, 0, 1, 1, 1, 2]).astype('int')\n",
        "\n",
        "# iterate over zipped job and color\n",
        "for j, c in zip(z, colors.TABLEAU_COLORS):\n",
        "    plt.plot(x[job == j], income[job == j], 'o-', c=c)\n",
        "\n",
        "plt.show()"
      ]
    }
  ],
  "metadata": {
    "kernelspec": {
      "display_name": "Python 3",
      "language": "python",
      "name": "python3"
    },
    "language_info": {
      "codemirror_mode": {
        "name": "ipython",
        "version": 3
      },
      "file_extension": ".py",
      "mimetype": "text/x-python",
      "name": "python",
      "nbconvert_exporter": "python",
      "pygments_lexer": "ipython3",
      "version": "3.7.6"
    }
  },
  "nbformat": 4,
  "nbformat_minor": 2
}