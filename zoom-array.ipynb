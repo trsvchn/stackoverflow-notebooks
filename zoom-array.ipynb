{
 "cells": [
  {
   "cell_type": "markdown",
   "metadata": {
    "badge": true,
    "repo_name": "trsvchn/stackoverflow-notebooks",
    "branch": "master",
    "nb_path": "zoom-array.ipynb",
    "comment": "This badge cell was added by colab-badge-action"
   },
   "source": [
    "<a href=\"https://colab.research.google.com/github/trsvchn/stackoverflow-notebooks/blob/master/zoom-array.ipynb\" target=\"_parent\"><img src=\"https://colab.research.google.com/assets/colab-badge.svg\" alt=\"Open In Colab\"/></a>"
   ]
  },
  {
   "cell_type": "code",
   "execution_count": 22,
   "metadata": {},
   "outputs": [
    {
     "name": "stdout",
     "output_type": "stream",
     "text": [
      "(4103,)\n",
      "(4103,)\n"
     ]
    }
   ],
   "source": [
    "import numpy as np\n",
    "from scipy.ndimage import zoom\n",
    "\n",
    "A = np.random.rand(3401)\n",
    "B = np.random.rand(2200)\n",
    "C = np.ones(4103)\n",
    "\n",
    "for arr in [A, B]:\n",
    "    zoom_rate = C.shape[0] / arr.shape[0]\n",
    "    arr = zoom(arr, zoom_rate)\n",
    "    print(arr.shape)"
   ]
  }
 ],
 "metadata": {
  "kernelspec": {
   "display_name": "Python 3",
   "language": "python",
   "name": "python3"
  },
  "language_info": {
   "codemirror_mode": {
    "name": "ipython",
    "version": 3
   },
   "file_extension": ".py",
   "mimetype": "text/x-python",
   "name": "python",
   "nbconvert_exporter": "python",
   "pygments_lexer": "ipython3",
   "version": "3.7.4"
  }
 },
 "nbformat": 4,
 "nbformat_minor": 2
}